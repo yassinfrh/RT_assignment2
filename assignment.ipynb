{
 "cells": [
  {
   "cell_type": "markdown",
   "id": "467d5bdb",
   "metadata": {},
   "source": [
    "# RT2 Assignment"
   ]
  },
  {
   "cell_type": "markdown",
   "id": "5db4aca5",
   "metadata": {},
   "source": [
    "## Goal\n",
    "Starting from the second assignment of the course, create a jupyter notebook to replace the user interface (the node «A»).\n",
    "Try using widgets to let the user know :\n",
    "- the position of the robot and all targets that have been set and cancelled in the environment\n",
    "- the distance of the closest obstacle"
   ]
  },
  {
   "cell_type": "markdown",
   "id": "0fd97cd0",
   "metadata": {},
   "source": [
    "## Procedure\n",
    "First of all we import all the necessary libraries:"
   ]
  },
  {
   "cell_type": "code",
   "execution_count": null,
   "id": "e77e1073",
   "metadata": {},
   "outputs": [],
   "source": [
    "import jupyros as jr\n",
    "import rospy\n",
    "import math\n",
    "import actionlib\n",
    "import actionlib.msg\n",
    "import assignment_2_2022.msg\n",
    "from std_srvs.srv import *\n",
    "import time\n",
    "import sys\n",
    "import select\n",
    "from nav_msgs.msg import Odometry\n",
    "from geometry_msgs.msg import Point, Pose, Twist\n",
    "from assignment_2_2022.msg import Pos_vel\n",
    "import ipywidgets as widgets\n",
    "from assignment_2_2022.srv import Goals_rc, Goals_rcRequest\n",
    "from sensor_msgs.msg import LaserScan"
   ]
  },
  {
   "cell_type": "markdown",
   "id": "40ea685f",
   "metadata": {},
   "source": [
    "Then we define the callback function for the subscriber, in which we create also the custom message to publish:"
   ]
  },
  {
   "cell_type": "code",
   "execution_count": null,
   "id": "2c147e59",
   "metadata": {},
   "outputs": [],
   "source": [
    "def clbk_odom(msg):\n",
    "    global last_odom\n",
    "    # Get the position from the msg\n",
    "    position_ = msg.pose.pose.position\n",
    "    # Get the twist from the msg\n",
    "    vel_lin = msg.twist.twist.linear\n",
    "    # Create custom message\n",
    "    pos_vel = Pos_vel()\n",
    "    pos_vel.x = position_.x\n",
    "    pos_vel.y = position_.y\n",
    "    pos_vel.vel_x = vel_lin.x\n",
    "    pos_vel.vel_y = vel_lin.y\n",
    "    # Publish the custom message\n",
    "    pub.publish(pos_vel)\n",
    "    # Print the position every 100 ms\n",
    "    curr_t = time.time() * 1000\n",
    "    if curr_t - last_odom > 100:\n",
    "        print(\"\\rRobot position: x={}, y={}\".format(position_.x, position_.y), end='')\n",
    "        last_odom = curr_t"
   ]
  },
  {
   "cell_type": "markdown",
   "id": "cf51bff3",
   "metadata": {},
   "source": [
    "Then we define the callback function for the laser scan:"
   ]
  },
  {
   "cell_type": "code",
   "execution_count": null,
   "id": "c54142bd",
   "metadata": {},
   "outputs": [],
   "source": [
    "def clbk_laser(scan):\n",
    "    global last_laser\n",
    "    # Only consider obstacles in a 180° field of view in front of the robot\n",
    "    start_index = len(scan.ranges) // 2 - (len(scan.ranges) // 4)\n",
    "    end_index = len(scan.ranges) // 2 + (len(scan.ranges) // 4)\n",
    "    ranges = scan.ranges[start_index:end_index]\n",
    "    min_dist = min(ranges)\n",
    "    # Print the distance every 100 ms\n",
    "    curr_t = time.time() * 1000\n",
    "    if curr_t - last_laser > 100:\n",
    "        print(\"\\rClosest obstacle distance: {}\".format(min_dist), end='')\n",
    "        last_laser = curr_t"
   ]
  },
  {
   "cell_type": "markdown",
   "id": "f8be32f5",
   "metadata": {},
   "source": [
    "Now we write the function to call the service to print the number of reached and cancelled goals:"
   ]
  },
  {
   "cell_type": "code",
   "execution_count": null,
   "id": "a6405cb3",
   "metadata": {},
   "outputs": [],
   "source": [
    "def call_service():\n",
    "    rospy.wait_for_service('/goals')\n",
    "    goals_service = rospy.ServiceProxy('/goals', Goals_rc)\n",
    "    response = goals_service(Goals_rcRequest())\n",
    "    print(\"\\rGoals reached: {} \\nGoals cancelled: {}\".format(response.reached, response.cancelled))"
   ]
  },
  {
   "cell_type": "markdown",
   "id": "b8aa0b0e",
   "metadata": {},
   "source": [
    "Here we create the widgets to input the desired position of the robot or to cancel the goal:"
   ]
  },
  {
   "cell_type": "code",
   "execution_count": null,
   "id": "1004367b",
   "metadata": {},
   "outputs": [],
   "source": [
    "# Numeric widgets for the position\n",
    "x_widg = widgets.BoundedFloatText(\n",
    "    value=0.0,\n",
    "    description='X:',\n",
    "    min=-9.0,\n",
    "    max=9.0,\n",
    "    style={'description_width': 'initial'},\n",
    "    step = 0.1,\n",
    "    layout=widgets.Layout(width='100px')\n",
    ")\n",
    "y_widg = widgets.BoundedFloatText(\n",
    "    value=0.0,\n",
    "    description='Y:',\n",
    "    min=-9.0,\n",
    "    max=9.0,\n",
    "    style={'description_width': 'initial'},\n",
    "    step = 0.1,\n",
    "    layout=widgets.Layout(width='100px')\n",
    ")\n",
    "\n",
    "# Button to send the goal position\n",
    "send_button = widgets.Button(\n",
    "    value=False,\n",
    "    description='Send goal',\n",
    "    disabled=False,\n",
    "    button_style=''\n",
    ")\n",
    "\n",
    "# Button to cancel the goal\n",
    "cancel_button = widgets.Button(\n",
    "    value=False,\n",
    "    description='Cancel goal',\n",
    "    disabled=False,\n",
    "    button_style=''\n",
    ")"
   ]
  },
  {
   "cell_type": "markdown",
   "id": "2a641a29",
   "metadata": {},
   "source": [
    "Then we have to create the callback functions related to the buttons:"
   ]
  },
  {
   "cell_type": "code",
   "execution_count": null,
   "id": "659a7f10",
   "metadata": {},
   "outputs": [],
   "source": [
    "def on_send_clicked(b):\n",
    "    # Create the goal reading the values of x and y of the widgets\n",
    "    goal = assignment_2_2022.msg.PlanningGoal()\n",
    "    goal.target_pose.pose.position.x = x_widg.value\n",
    "    goal.target_pose.pose.position.y = y_widg.value\n",
    "    # Send the goal to the action server\n",
    "    client.send_goal(goal)\n",
    "    # Set the cancelled flag to false\n",
    "    cancelled = False"
   ]
  },
  {
   "cell_type": "code",
   "execution_count": null,
   "id": "5beb7975",
   "metadata": {},
   "outputs": [],
   "source": [
    "def on_cancel_clicked(b):\n",
    "    # Cancel the goal\n",
    "    client.cancel_goal()\n",
    "    # Set the cancelled flag to true\n",
    "    cancelled = True"
   ]
  },
  {
   "cell_type": "markdown",
   "id": "01b9d19e",
   "metadata": {},
   "source": [
    "After we created the callback functions, we have to attach them to the buttons click events:"
   ]
  },
  {
   "cell_type": "code",
   "execution_count": null,
   "id": "24d999f0",
   "metadata": {},
   "outputs": [],
   "source": [
    "send_button.on_click(on_send_clicked)\n",
    "cancel_button.on_click(on_cancel_clicked)"
   ]
  },
  {
   "cell_type": "markdown",
   "id": "af4b97e9",
   "metadata": {},
   "source": [
    "Now we need to initialize the node, subscriber, publisher and client:"
   ]
  },
  {
   "cell_type": "code",
   "execution_count": null,
   "id": "08d38648",
   "metadata": {},
   "outputs": [],
   "source": [
    "# Initialize the node\n",
    "rospy.init_node('action_client_jupy')\n",
    "# Publisher for the custom message\n",
    "pub = rospy.Publisher(\"/pos_vel\", Pos_vel, queue_size=1)\n",
    "# Create the action client\n",
    "client = actionlib.SimpleActionClient('/reaching_goal', assignment_2_2022.msg.PlanningAction)\n",
    "# Wait for the server to be started\n",
    "client.wait_for_server()\n",
    "# Set the cancelled flag to false\n",
    "cancelled = False"
   ]
  },
  {
   "cell_type": "markdown",
   "id": "9257fe33",
   "metadata": {},
   "source": [
    "## Program execution\n",
    "Run the following cell to be able to set the **desired position**"
   ]
  },
  {
   "cell_type": "code",
   "execution_count": null,
   "id": "903a242f",
   "metadata": {},
   "outputs": [],
   "source": [
    "display(widgets.HBox([x_widg, y_widg]))\n",
    "display(widgets.HBox([send_button, cancel_button]))"
   ]
  },
  {
   "cell_type": "markdown",
   "id": "d4d9c2a8",
   "metadata": {},
   "source": [
    "Run the following cell to print the **current position** of the robot"
   ]
  },
  {
   "cell_type": "code",
   "execution_count": null,
   "id": "823e52ca",
   "metadata": {},
   "outputs": [],
   "source": [
    "last_odom = 0\n",
    "jr.subscribe('/odom', Odometry, clbk_odom)"
   ]
  },
  {
   "cell_type": "markdown",
   "id": "5e94254f",
   "metadata": {},
   "source": [
    "Run the following cell to print the **closest obstacle**"
   ]
  },
  {
   "cell_type": "code",
   "execution_count": null,
   "id": "c5003362",
   "metadata": {},
   "outputs": [],
   "source": [
    "last_laser = 0\n",
    "jr.subscribe('/scan', LaserScan, clbk_laser)"
   ]
  },
  {
   "cell_type": "markdown",
   "id": "65eb5ba0",
   "metadata": {},
   "source": [
    "Run the following cell to print the number of **cancelled goals** and the number of **reached goals**"
   ]
  },
  {
   "cell_type": "code",
   "execution_count": null,
   "id": "7c648121",
   "metadata": {},
   "outputs": [],
   "source": [
    "call_service()"
   ]
  }
 ],
 "metadata": {
  "kernelspec": {
   "display_name": "Python 3 (ipykernel)",
   "language": "python",
   "name": "python3"
  },
  "language_info": {
   "codemirror_mode": {
    "name": "ipython",
    "version": 3
   },
   "file_extension": ".py",
   "mimetype": "text/x-python",
   "name": "python",
   "nbconvert_exporter": "python",
   "pygments_lexer": "ipython3",
   "version": "3.8.5"
  }
 },
 "nbformat": 4,
 "nbformat_minor": 5
}
