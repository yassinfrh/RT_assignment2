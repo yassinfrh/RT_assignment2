{
 "cells": [
  {
   "cell_type": "markdown",
   "id": "467d5bdb",
   "metadata": {},
   "source": [
    "# RT2 Assignment"
   ]
  },
  {
   "cell_type": "markdown",
   "id": "5db4aca5",
   "metadata": {},
   "source": [
    "## Goal\n",
    "Starting from the second assignment of the course, create a jupyter notebook to replace the user interface (the node «A»).\n",
    "Try using widgets to let the user know :\n",
    "- the position of the robot and all targets that have been set and cancelled in the environment\n",
    "- the distance of the closest obstacle"
   ]
  },
  {
   "cell_type": "markdown",
   "id": "0fd97cd0",
   "metadata": {},
   "source": [
    "## Procedure\n",
    "First of all we import all the necessary libraries:"
   ]
  },
  {
   "cell_type": "code",
   "execution_count": null,
   "id": "e77e1073",
   "metadata": {},
   "outputs": [],
   "source": [
    "import jupyros as jr\n",
    "import rospy\n",
    "import math\n",
    "import actionlib\n",
    "import actionlib.msg\n",
    "import assignment_2_2022.msg\n",
    "from std_srvs.srv import *\n",
    "import time\n",
    "import sys\n",
    "import select\n",
    "from nav_msgs.msg import Odometry\n",
    "from geometry_msgs.msg import Point, Pose, Twist\n",
    "from assignment_2_2022.msg import Pos_vel\n",
    "import ipywidgets as widgets\n",
    "from assignment_2_2022.srv import Goals_rc, Goals_rcRequest\n",
    "from sensor_msgs.msg import LaserScan\n",
    "import matplotlib.pyplot as plt\n",
    "import numpy as np\n",
    "from matplotlib.animation import FuncAnimation\n",
    "%matplotlib widget"
   ]
  },
  {
   "cell_type": "markdown",
   "id": "40ea685f",
   "metadata": {},
   "source": [
    "Then we define the callback function for the subscriber, in which we create also the custom message to publish:"
   ]
  },
  {
   "cell_type": "code",
   "execution_count": null,
   "id": "2c147e59",
   "metadata": {},
   "outputs": [],
   "source": [
    "def clbk_odom(msg):\n",
    "    global last_odom\n",
    "    # Get the position from the msg\n",
    "    position_ = msg.pose.pose.position\n",
    "    # Get the twist from the msg\n",
    "    vel_lin = msg.twist.twist.linear\n",
    "    # Create custom message\n",
    "    pos_vel = Pos_vel()\n",
    "    pos_vel.x = position_.x\n",
    "    pos_vel.y = position_.y\n",
    "    pos_vel.vel_x = vel_lin.x\n",
    "    pos_vel.vel_y = vel_lin.y\n",
    "    # Publish the custom message\n",
    "    pub.publish(pos_vel)\n",
    "    # Print the position every 100 ms\n",
    "    curr_t = time.time() * 1000\n",
    "    if curr_t - last_odom > 100:\n",
    "        print(\"\\rRobot position: x={}, y={}\".format(position_.x, position_.y), end='')\n",
    "        last_odom = curr_t"
   ]
  },
  {
   "cell_type": "markdown",
   "id": "cf51bff3",
   "metadata": {},
   "source": [
    "Then we define the callback function for the laser scan:"
   ]
  },
  {
   "cell_type": "code",
   "execution_count": null,
   "id": "c54142bd",
   "metadata": {},
   "outputs": [],
   "source": [
    "def clbk_laser(scan):\n",
    "    global last_laser\n",
    "    # Only consider obstacles in a 180° field of view in front of the robot\n",
    "    start_index = len(scan.ranges) // 2 - (len(scan.ranges) // 4)\n",
    "    end_index = len(scan.ranges) // 2 + (len(scan.ranges) // 4)\n",
    "    ranges = scan.ranges[start_index:end_index]\n",
    "    min_dist = min(ranges)\n",
    "    # Print the distance every 100 ms\n",
    "    curr_t = time.time() * 1000\n",
    "    if curr_t - last_laser > 100:\n",
    "        print(\"\\rClosest obstacle distance: {}\".format(min_dist), end='')\n",
    "        last_laser = curr_t"
   ]
  },
  {
   "cell_type": "markdown",
   "id": "f8be32f5",
   "metadata": {},
   "source": [
    "Now we write the function to call the service to print the number of reached and cancelled goals:"
   ]
  },
  {
   "cell_type": "code",
   "execution_count": null,
   "id": "a6405cb3",
   "metadata": {},
   "outputs": [],
   "source": [
    "def call_service():\n",
    "    rospy.wait_for_service('/goals')\n",
    "    goals_service = rospy.ServiceProxy('/goals', Goals_rc)\n",
    "    response = goals_service(Goals_rcRequest())\n",
    "    return response"
   ]
  },
  {
   "cell_type": "markdown",
   "id": "b8aa0b0e",
   "metadata": {},
   "source": [
    "Here we create the widgets to input the desired position of the robot or to cancel the goal:"
   ]
  },
  {
   "cell_type": "code",
   "execution_count": null,
   "id": "1004367b",
   "metadata": {},
   "outputs": [],
   "source": [
    "# Numeric widgets for the position\n",
    "x_widg = widgets.BoundedFloatText(\n",
    "    value=0.0,\n",
    "    description='X:',\n",
    "    min=-9.0,\n",
    "    max=9.0,\n",
    "    style={'description_width': 'initial'},\n",
    "    step = 0.1,\n",
    "    layout=widgets.Layout(width='100px')\n",
    ")\n",
    "y_widg = widgets.BoundedFloatText(\n",
    "    value=0.0,\n",
    "    description='Y:',\n",
    "    min=-9.0,\n",
    "    max=9.0,\n",
    "    style={'description_width': 'initial'},\n",
    "    step = 0.1,\n",
    "    layout=widgets.Layout(width='100px')\n",
    ")\n",
    "\n",
    "# Button to send the goal position\n",
    "send_button = widgets.Button(\n",
    "    value=False,\n",
    "    description='Send goal',\n",
    "    disabled=False,\n",
    "    button_style=''\n",
    ")\n",
    "\n",
    "# Button to cancel the goal\n",
    "cancel_button = widgets.Button(\n",
    "    value=False,\n",
    "    description='Cancel goal',\n",
    "    disabled=False,\n",
    "    button_style=''\n",
    ")"
   ]
  },
  {
   "cell_type": "markdown",
   "id": "2a641a29",
   "metadata": {},
   "source": [
    "Then we have to create the callback functions related to the buttons:"
   ]
  },
  {
   "cell_type": "code",
   "execution_count": null,
   "id": "659a7f10",
   "metadata": {},
   "outputs": [],
   "source": [
    "def on_send_clicked(b):\n",
    "    global goal, cancelled\n",
    "    # Create the goal reading the values of x and y of the widgets\n",
    "    goal = assignment_2_2022.msg.PlanningGoal()\n",
    "    goal.target_pose.pose.position.x = x_widg.value\n",
    "    goal.target_pose.pose.position.y = y_widg.value\n",
    "    # Send the goal to the action server\n",
    "    client.send_goal(goal)\n",
    "    # Set the cancelled flag to false\n",
    "    cancelled = False"
   ]
  },
  {
   "cell_type": "code",
   "execution_count": null,
   "id": "5beb7975",
   "metadata": {},
   "outputs": [],
   "source": [
    "def on_cancel_clicked(b):\n",
    "    global cancelled\n",
    "    # Cancel the goal\n",
    "    client.cancel_goal()\n",
    "    goal = None\n",
    "    # Set the cancelled flag to true\n",
    "    cancelled = True"
   ]
  },
  {
   "cell_type": "markdown",
   "id": "01b9d19e",
   "metadata": {},
   "source": [
    "After we created the callback functions, we have to attach them to the buttons click events:"
   ]
  },
  {
   "cell_type": "code",
   "execution_count": null,
   "id": "24d999f0",
   "metadata": {},
   "outputs": [],
   "source": [
    "send_button.on_click(on_send_clicked)\n",
    "cancel_button.on_click(on_cancel_clicked)"
   ]
  },
  {
   "cell_type": "markdown",
   "id": "0fd90097",
   "metadata": {},
   "source": [
    "For visualizing the position of the robot, we can use an animation class:"
   ]
  },
  {
   "cell_type": "code",
   "execution_count": null,
   "id": "5b215498",
   "metadata": {},
   "outputs": [],
   "source": [
    "class PositionVisualizer:\n",
    "    def __init__(self):\n",
    "        # Init function\n",
    "        self.fig, self.ax = plt.subplots()\n",
    "        # Settings for robot's position plot\n",
    "        self.ln, = plt.plot([], [], 'bo', label='Robot position')\n",
    "        # Settings for target's position plot\n",
    "        self.goal_ln, = plt.plot([], [], 'r*', markersize=10, label='Goal position')\n",
    "        # Robot's position data arrays\n",
    "        self.x_data, self.y_data = [], []\n",
    "    \n",
    "    def plot_init(self):\n",
    "        # Set axis limits\n",
    "        self.ax.set_xlim(-10, 10)\n",
    "        self.ax.set_ylim(-10, 10)\n",
    "        # Set the grid\n",
    "        self.ax.grid(True, color='lightgrey')\n",
    "        # Set the title\n",
    "        self.ax.set_title('Robot position')\n",
    "        # Set the legend\n",
    "        self.ax.legend(loc='upper left')\n",
    "        \n",
    "        return self.ln, self.goal_ln\n",
    "    \n",
    "    def odom_callback(self, msg):\n",
    "        # Callback function to update the data arrays\n",
    "        self.x_data.append(msg.pose.pose.position.x)\n",
    "        self.y_data.append(msg.pose.pose.position.y)\n",
    "    \n",
    "    def update_plot(self, frame):\n",
    "        # Update the robot position plot\n",
    "        self.ln.set_data(self.x_data, self.y_data)\n",
    "        \n",
    "        # If the goal is cancelled, remove the red marker\n",
    "        if cancelled:\n",
    "            self.goal_ln.set_data([], [])\n",
    "        # If the goal exists, set the red marker\n",
    "        elif goal is not None:\n",
    "            self.goal_ln.set_data(goal.target_pose.pose.position.x, goal.target_pose.pose.position.y)\n",
    "        else:\n",
    "            self.goal_ln.set_data([], [])\n",
    "        return self.ln, self.goal_ln"
   ]
  },
  {
   "cell_type": "markdown",
   "id": "7acf0cd6",
   "metadata": {},
   "source": [
    "For visualizing the number of reached and cancelled goals, we can create another animation class:"
   ]
  },
  {
   "cell_type": "code",
   "execution_count": null,
   "id": "eb385ef2",
   "metadata": {},
   "outputs": [],
   "source": [
    "class GoalsVisualizer:\n",
    "    def __init__(self):\n",
    "        # Initialize the figure and axis\n",
    "        self.fig, self.ax = plt.subplots()\n",
    "        self.ax.set_title('Goals reached/cancelled')\n",
    "        \n",
    "        # Set up the initial values for the two bars\n",
    "        self.reached = 0\n",
    "        self.cancelled = 0\n",
    "        \n",
    "        # Set up the horizontal grid\n",
    "        self.ax.grid(axis='y', color='grey', linestyle='-', alpha=0.5)\n",
    "        \n",
    "        # Set up the x-axis tick labels\n",
    "        self.labels = ('Reached', 'Cancelled')\n",
    "        self.x_pos = np.arange(len(self.labels))\n",
    "        self.ax.set_xticks(self.x_pos)\n",
    "        self.ax.set_xticklabels(self.labels)\n",
    "        \n",
    "        # Set up the y-axis range and ticks\n",
    "        self.ax.set_ylim([0, 10])\n",
    "        self.ax.set_yticks(np.arange(0, 11, 1))\n",
    "        \n",
    "        # Set up the bar chart\n",
    "        self.bar_colors = ['green', 'red']\n",
    "        self.bar_plot = self.ax.bar(self.x_pos,\n",
    "                                    [self.reached, self.cancelled],\n",
    "                                    align='center',\n",
    "                                    color=self.bar_colors,\n",
    "                                    width=0.2)\n",
    "        \n",
    "    def goals_callback(self, msg):\n",
    "        # Get the number of reached and cancelled goals\n",
    "        response = call_service()\n",
    "        self.reached = response.reached\n",
    "        self.cancelled = response.cancelled\n",
    "        \n",
    "    def update_plot(self, frame):\n",
    "        # Update the values of the two bars\n",
    "        self.green_val = np.random.randint(0, 100)\n",
    "        self.red_val = np.random.randint(0, 100)\n",
    "        \n",
    "        # Update the heights of the bars\n",
    "        for i, bar in enumerate(self.bar_plot):\n",
    "            if i == 0:\n",
    "                bar.set_height(self.reached)\n",
    "            else:\n",
    "                bar.set_height(self.cancelled)\n",
    "                \n",
    "            bar.set_color(self.bar_colors[i])\n",
    "        \n",
    "        return self.bar_plot"
   ]
  },
  {
   "cell_type": "markdown",
   "id": "af4b97e9",
   "metadata": {},
   "source": [
    "Now we need to initialize the node, subscriber, publisher and client:"
   ]
  },
  {
   "cell_type": "code",
   "execution_count": null,
   "id": "08d38648",
   "metadata": {},
   "outputs": [],
   "source": [
    "# Initialize the node\n",
    "rospy.init_node('action_client_jupy')\n",
    "# Publisher for the custom message\n",
    "pub = rospy.Publisher(\"/pos_vel\", Pos_vel, queue_size=1)\n",
    "# Create the action client\n",
    "client = actionlib.SimpleActionClient('/reaching_goal', assignment_2_2022.msg.PlanningAction)\n",
    "# Wait for the server to be started\n",
    "client.wait_for_server()\n",
    "# Set the cancelled flag to false\n",
    "cancelled = False\n",
    "# Set the goal to None\n",
    "goal = None"
   ]
  },
  {
   "cell_type": "markdown",
   "id": "9257fe33",
   "metadata": {},
   "source": [
    "## Program execution\n",
    "Run the following cell to be able to set the **desired position**"
   ]
  },
  {
   "cell_type": "code",
   "execution_count": null,
   "id": "903a242f",
   "metadata": {},
   "outputs": [],
   "source": [
    "display(widgets.HBox([x_widg, y_widg]))\n",
    "display(widgets.HBox([send_button, cancel_button]))"
   ]
  },
  {
   "cell_type": "markdown",
   "id": "d4d9c2a8",
   "metadata": {},
   "source": [
    "Run the following cell to print the **current position** of the robot"
   ]
  },
  {
   "cell_type": "code",
   "execution_count": null,
   "id": "823e52ca",
   "metadata": {},
   "outputs": [],
   "source": [
    "last_odom = 0\n",
    "jr.subscribe('/odom', Odometry, clbk_odom)"
   ]
  },
  {
   "cell_type": "markdown",
   "id": "5e94254f",
   "metadata": {},
   "source": [
    "Run the following cell to print the distance from the **closest obstacle**"
   ]
  },
  {
   "cell_type": "code",
   "execution_count": null,
   "id": "c5003362",
   "metadata": {},
   "outputs": [],
   "source": [
    "last_laser = 0\n",
    "jr.subscribe('/scan', LaserScan, clbk_laser)"
   ]
  },
  {
   "cell_type": "markdown",
   "id": "65eb5ba0",
   "metadata": {},
   "source": [
    "Run the following cell to plot the number of **cancelled goals** and the number of **reached goals**"
   ]
  },
  {
   "cell_type": "code",
   "execution_count": null,
   "id": "7c648121",
   "metadata": {},
   "outputs": [],
   "source": [
    "# Create the visualizer object\n",
    "g_vis = GoalsVisualizer()\n",
    "# Subscriber for the goals visualizer\n",
    "sub_result = rospy.Subscriber('/reaching_goal/result', assignment_2_2022.msg.PlanningActionResult, g_vis.goals_callback)\n",
    "\n",
    "g_ani = FuncAnimation(g_vis.fig, g_vis.update_plot, interval=1000)\n",
    "plt.show(block=True)"
   ]
  },
  {
   "cell_type": "markdown",
   "id": "c1eae3e2",
   "metadata": {},
   "source": [
    "Run the following cell to plot the **robot position** and the **goal position**"
   ]
  },
  {
   "cell_type": "code",
   "execution_count": null,
   "id": "e8dba07c",
   "metadata": {},
   "outputs": [],
   "source": [
    "# Create the visualizer object\n",
    "pos_vis = PositionVisualizer()\n",
    "# Subscriber for the odom topic\n",
    "sub = rospy.Subscriber('/odom', Odometry, pos_vis.odom_callback)\n",
    "\n",
    "pos_ani = FuncAnimation(pos_vis.fig, pos_vis.update_plot, init_func=pos_vis.plot_init)\n",
    "plt.show(block=True)"
   ]
  }
 ],
 "metadata": {
  "kernelspec": {
   "display_name": "Python 3 (ipykernel)",
   "language": "python",
   "name": "python3"
  },
  "language_info": {
   "codemirror_mode": {
    "name": "ipython",
    "version": 3
   },
   "file_extension": ".py",
   "mimetype": "text/x-python",
   "name": "python",
   "nbconvert_exporter": "python",
   "pygments_lexer": "ipython3",
   "version": "3.8.5"
  }
 },
 "nbformat": 4,
 "nbformat_minor": 5
}
